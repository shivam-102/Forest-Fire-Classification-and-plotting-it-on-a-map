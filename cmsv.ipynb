{
 "cells": [
  {
   "cell_type": "code",
   "execution_count": 2,
   "id": "aaeb1bac",
   "metadata": {},
   "outputs": [],
   "source": [
    "# Define the input and output file paths\n",
    "input_file_path = 'tweet.txt'\n",
    "output_file_path = 'output.txt'\n",
    "\n",
    "# Read the input file and extract the comma-separated string\n",
    "with open(input_file_path, 'r') as input_file:\n",
    "    csv_string = input_file.read().strip()\n",
    "\n",
    "# Split the comma-separated string into a list of substrings\n",
    "substrings = csv_string.split(',')\n",
    "\n",
    "# Open the output file and write each substring on a separate line\n",
    "with open(output_file_path, 'w') as output_file:\n",
    "    for substring in substrings:\n",
    "        output_file.write(substring + '\\n')\n",
    "        "
   ]
  },
  {
   "cell_type": "code",
   "execution_count": null,
   "id": "ea0a2f9a",
   "metadata": {},
   "outputs": [],
   "source": []
  }
 ],
 "metadata": {
  "kernelspec": {
   "display_name": "Python 3 (ipykernel)",
   "language": "python",
   "name": "python3"
  },
  "language_info": {
   "codemirror_mode": {
    "name": "ipython",
    "version": 3
   },
   "file_extension": ".py",
   "mimetype": "text/x-python",
   "name": "python",
   "nbconvert_exporter": "python",
   "pygments_lexer": "ipython3",
   "version": "3.9.13"
  }
 },
 "nbformat": 4,
 "nbformat_minor": 5
}
