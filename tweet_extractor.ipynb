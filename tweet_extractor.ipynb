{
 "cells": [
  {
   "cell_type": "code",
   "execution_count": 4,
   "id": "c1d1de3b",
   "metadata": {},
   "outputs": [],
   "source": [
    "#!pip3 install cv"
   ]
  },
  {
   "cell_type": "code",
   "execution_count": 3,
   "id": "96327388",
   "metadata": {},
   "outputs": [],
   "source": [
    "import csv"
   ]
  },
  {
   "cell_type": "code",
   "execution_count": 5,
   "id": "9c6e9e59",
   "metadata": {},
   "outputs": [],
   "source": [
    "ip='canada_wildfires_2016_combined.csv'\n",
    "op='tweet.txt'"
   ]
  },
  {
   "cell_type": "code",
   "execution_count": 8,
   "id": "b210b0e4",
   "metadata": {},
   "outputs": [],
   "source": [
    "with open(ip, 'r') as csv_file:\n",
    "    csv_reader = csv.reader(csv_file)\n",
    "    # Extract the specified column data from each row and append to a list\n",
    "    column_data = [row[0] for row in csv_reader]"
   ]
  },
  {
   "cell_type": "code",
   "execution_count": 10,
   "id": "7a003c9c",
   "metadata": {},
   "outputs": [],
   "source": [
    "with open(op, 'w') as txt_file:\n",
    "    txt_file.write(','.join(column_data))"
   ]
  },
  {
   "cell_type": "code",
   "execution_count": null,
   "id": "da3885b7",
   "metadata": {},
   "outputs": [],
   "source": []
  }
 ],
 "metadata": {
  "kernelspec": {
   "display_name": "Python 3 (ipykernel)",
   "language": "python",
   "name": "python3"
  },
  "language_info": {
   "codemirror_mode": {
    "name": "ipython",
    "version": 3
   },
   "file_extension": ".py",
   "mimetype": "text/x-python",
   "name": "python",
   "nbconvert_exporter": "python",
   "pygments_lexer": "ipython3",
   "version": "3.9.13"
  }
 },
 "nbformat": 4,
 "nbformat_minor": 5
}
